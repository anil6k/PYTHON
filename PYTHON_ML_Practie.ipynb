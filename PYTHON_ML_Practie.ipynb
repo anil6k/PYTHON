{
  "nbformat": 4,
  "nbformat_minor": 0,
  "metadata": {
    "colab": {
      "provenance": [],
      "authorship_tag": "ABX9TyMCE2TOr2MWSD550AXhROAB",
      "include_colab_link": true
    },
    "kernelspec": {
      "name": "python3",
      "display_name": "Python 3"
    },
    "language_info": {
      "name": "python"
    }
  },
  "cells": [
    {
      "cell_type": "markdown",
      "metadata": {
        "id": "view-in-github",
        "colab_type": "text"
      },
      "source": [
        "<a href=\"https://colab.research.google.com/github/anil6k/master/blob/master/PYTHON_ML_Practie.ipynb\" target=\"_parent\"><img src=\"https://colab.research.google.com/assets/colab-badge.svg\" alt=\"Open In Colab\"/></a>"
      ]
    },
    {
      "cell_type": "code",
      "execution_count": null,
      "metadata": {
        "id": "qJ7Ms2Lgs1Wn",
        "colab": {
          "base_uri": "https://localhost:8080/",
          "height": 939
        },
        "outputId": "98df03c1-4378-480e-cc4e-ab6ff5b5b96b"
      },
      "outputs": [
        {
          "output_type": "execute_result",
          "data": {
            "text/plain": [
              "                             Email  \\\n",
              "0        mstephenson@fernandez.com   \n",
              "1                hduke@hotmail.com   \n",
              "2                 pallen@yahoo.com   \n",
              "3          riverarebecca@gmail.com   \n",
              "4    mstephens@davidson-herman.com   \n",
              "..                             ...   \n",
              "495   lewisjessica@craig-evans.com   \n",
              "496            katrina56@gmail.com   \n",
              "497             dale88@hotmail.com   \n",
              "498            cwilson@hotmail.com   \n",
              "499      hannahwilson@davidson.com   \n",
              "\n",
              "                                               Address            Avatar  \\\n",
              "0           835 Frank TunnelWrightmouth, MI 82180-9605            Violet   \n",
              "1         4547 Archer CommonDiazchester, CA 06566-8576         DarkGreen   \n",
              "2    24645 Valerie Unions Suite 582Cobbborough, DC ...            Bisque   \n",
              "3       1414 David ThroughwayPort Jason, OH 22070-1220       SaddleBrown   \n",
              "4    14023 Rodriguez PassagePort Jacobville, PR 372...  MediumAquaMarine   \n",
              "..                                                 ...               ...   \n",
              "495  4483 Jones Motorway Suite 872Lake Jamiefurt, U...               Tan   \n",
              "496    172 Owen Divide Suite 497West Richard, CA 19320     PaleVioletRed   \n",
              "497  0787 Andrews Ranch Apt. 633South Chadburgh, TN...          Cornsilk   \n",
              "498  680 Jennifer Lodge Apt. 808Brendachester, TX 0...              Teal   \n",
              "499  49791 Rachel Heights Apt. 898East Drewborough,...       DarkMagenta   \n",
              "\n",
              "     Avg Session Length  Time on App  Time on Website  Length of Membership  \\\n",
              "0             34.497268    12.655651        39.577668              4.082621   \n",
              "1             31.926272    11.109461        37.268959              2.664034   \n",
              "2             33.000915    11.330278        37.110597              4.104543   \n",
              "3             34.305557    13.717514        36.721283              3.120179   \n",
              "4             33.330673    12.795189        37.536653              4.446308   \n",
              "..                  ...          ...              ...                   ...   \n",
              "495           33.237660    13.566160        36.417985              3.746573   \n",
              "496           34.702529    11.695736        37.190268              3.576526   \n",
              "497           32.646777    11.499409        38.332576              4.958264   \n",
              "498           33.322501    12.391423        36.840086              2.336485   \n",
              "499           33.715981    12.418808        35.771016              2.735160   \n",
              "\n",
              "     Yearly Amount Spent  \n",
              "0             587.951054  \n",
              "1             392.204933  \n",
              "2             487.547505  \n",
              "3             581.852344  \n",
              "4             599.406092  \n",
              "..                   ...  \n",
              "495           573.847438  \n",
              "496           529.049004  \n",
              "497           551.620146  \n",
              "498           456.469510  \n",
              "499           497.778642  \n",
              "\n",
              "[500 rows x 8 columns]"
            ],
            "text/html": [
              "\n",
              "  <div id=\"df-b5de6476-09bd-47b7-9478-e0b97002e6c6\">\n",
              "    <div class=\"colab-df-container\">\n",
              "      <div>\n",
              "<style scoped>\n",
              "    .dataframe tbody tr th:only-of-type {\n",
              "        vertical-align: middle;\n",
              "    }\n",
              "\n",
              "    .dataframe tbody tr th {\n",
              "        vertical-align: top;\n",
              "    }\n",
              "\n",
              "    .dataframe thead th {\n",
              "        text-align: right;\n",
              "    }\n",
              "</style>\n",
              "<table border=\"1\" class=\"dataframe\">\n",
              "  <thead>\n",
              "    <tr style=\"text-align: right;\">\n",
              "      <th></th>\n",
              "      <th>Email</th>\n",
              "      <th>Address</th>\n",
              "      <th>Avatar</th>\n",
              "      <th>Avg Session Length</th>\n",
              "      <th>Time on App</th>\n",
              "      <th>Time on Website</th>\n",
              "      <th>Length of Membership</th>\n",
              "      <th>Yearly Amount Spent</th>\n",
              "    </tr>\n",
              "  </thead>\n",
              "  <tbody>\n",
              "    <tr>\n",
              "      <th>0</th>\n",
              "      <td>mstephenson@fernandez.com</td>\n",
              "      <td>835 Frank TunnelWrightmouth, MI 82180-9605</td>\n",
              "      <td>Violet</td>\n",
              "      <td>34.497268</td>\n",
              "      <td>12.655651</td>\n",
              "      <td>39.577668</td>\n",
              "      <td>4.082621</td>\n",
              "      <td>587.951054</td>\n",
              "    </tr>\n",
              "    <tr>\n",
              "      <th>1</th>\n",
              "      <td>hduke@hotmail.com</td>\n",
              "      <td>4547 Archer CommonDiazchester, CA 06566-8576</td>\n",
              "      <td>DarkGreen</td>\n",
              "      <td>31.926272</td>\n",
              "      <td>11.109461</td>\n",
              "      <td>37.268959</td>\n",
              "      <td>2.664034</td>\n",
              "      <td>392.204933</td>\n",
              "    </tr>\n",
              "    <tr>\n",
              "      <th>2</th>\n",
              "      <td>pallen@yahoo.com</td>\n",
              "      <td>24645 Valerie Unions Suite 582Cobbborough, DC ...</td>\n",
              "      <td>Bisque</td>\n",
              "      <td>33.000915</td>\n",
              "      <td>11.330278</td>\n",
              "      <td>37.110597</td>\n",
              "      <td>4.104543</td>\n",
              "      <td>487.547505</td>\n",
              "    </tr>\n",
              "    <tr>\n",
              "      <th>3</th>\n",
              "      <td>riverarebecca@gmail.com</td>\n",
              "      <td>1414 David ThroughwayPort Jason, OH 22070-1220</td>\n",
              "      <td>SaddleBrown</td>\n",
              "      <td>34.305557</td>\n",
              "      <td>13.717514</td>\n",
              "      <td>36.721283</td>\n",
              "      <td>3.120179</td>\n",
              "      <td>581.852344</td>\n",
              "    </tr>\n",
              "    <tr>\n",
              "      <th>4</th>\n",
              "      <td>mstephens@davidson-herman.com</td>\n",
              "      <td>14023 Rodriguez PassagePort Jacobville, PR 372...</td>\n",
              "      <td>MediumAquaMarine</td>\n",
              "      <td>33.330673</td>\n",
              "      <td>12.795189</td>\n",
              "      <td>37.536653</td>\n",
              "      <td>4.446308</td>\n",
              "      <td>599.406092</td>\n",
              "    </tr>\n",
              "    <tr>\n",
              "      <th>...</th>\n",
              "      <td>...</td>\n",
              "      <td>...</td>\n",
              "      <td>...</td>\n",
              "      <td>...</td>\n",
              "      <td>...</td>\n",
              "      <td>...</td>\n",
              "      <td>...</td>\n",
              "      <td>...</td>\n",
              "    </tr>\n",
              "    <tr>\n",
              "      <th>495</th>\n",
              "      <td>lewisjessica@craig-evans.com</td>\n",
              "      <td>4483 Jones Motorway Suite 872Lake Jamiefurt, U...</td>\n",
              "      <td>Tan</td>\n",
              "      <td>33.237660</td>\n",
              "      <td>13.566160</td>\n",
              "      <td>36.417985</td>\n",
              "      <td>3.746573</td>\n",
              "      <td>573.847438</td>\n",
              "    </tr>\n",
              "    <tr>\n",
              "      <th>496</th>\n",
              "      <td>katrina56@gmail.com</td>\n",
              "      <td>172 Owen Divide Suite 497West Richard, CA 19320</td>\n",
              "      <td>PaleVioletRed</td>\n",
              "      <td>34.702529</td>\n",
              "      <td>11.695736</td>\n",
              "      <td>37.190268</td>\n",
              "      <td>3.576526</td>\n",
              "      <td>529.049004</td>\n",
              "    </tr>\n",
              "    <tr>\n",
              "      <th>497</th>\n",
              "      <td>dale88@hotmail.com</td>\n",
              "      <td>0787 Andrews Ranch Apt. 633South Chadburgh, TN...</td>\n",
              "      <td>Cornsilk</td>\n",
              "      <td>32.646777</td>\n",
              "      <td>11.499409</td>\n",
              "      <td>38.332576</td>\n",
              "      <td>4.958264</td>\n",
              "      <td>551.620146</td>\n",
              "    </tr>\n",
              "    <tr>\n",
              "      <th>498</th>\n",
              "      <td>cwilson@hotmail.com</td>\n",
              "      <td>680 Jennifer Lodge Apt. 808Brendachester, TX 0...</td>\n",
              "      <td>Teal</td>\n",
              "      <td>33.322501</td>\n",
              "      <td>12.391423</td>\n",
              "      <td>36.840086</td>\n",
              "      <td>2.336485</td>\n",
              "      <td>456.469510</td>\n",
              "    </tr>\n",
              "    <tr>\n",
              "      <th>499</th>\n",
              "      <td>hannahwilson@davidson.com</td>\n",
              "      <td>49791 Rachel Heights Apt. 898East Drewborough,...</td>\n",
              "      <td>DarkMagenta</td>\n",
              "      <td>33.715981</td>\n",
              "      <td>12.418808</td>\n",
              "      <td>35.771016</td>\n",
              "      <td>2.735160</td>\n",
              "      <td>497.778642</td>\n",
              "    </tr>\n",
              "  </tbody>\n",
              "</table>\n",
              "<p>500 rows × 8 columns</p>\n",
              "</div>\n",
              "      <button class=\"colab-df-convert\" onclick=\"convertToInteractive('df-b5de6476-09bd-47b7-9478-e0b97002e6c6')\"\n",
              "              title=\"Convert this dataframe to an interactive table.\"\n",
              "              style=\"display:none;\">\n",
              "        \n",
              "  <svg xmlns=\"http://www.w3.org/2000/svg\" height=\"24px\"viewBox=\"0 0 24 24\"\n",
              "       width=\"24px\">\n",
              "    <path d=\"M0 0h24v24H0V0z\" fill=\"none\"/>\n",
              "    <path d=\"M18.56 5.44l.94 2.06.94-2.06 2.06-.94-2.06-.94-.94-2.06-.94 2.06-2.06.94zm-11 1L8.5 8.5l.94-2.06 2.06-.94-2.06-.94L8.5 2.5l-.94 2.06-2.06.94zm10 10l.94 2.06.94-2.06 2.06-.94-2.06-.94-.94-2.06-.94 2.06-2.06.94z\"/><path d=\"M17.41 7.96l-1.37-1.37c-.4-.4-.92-.59-1.43-.59-.52 0-1.04.2-1.43.59L10.3 9.45l-7.72 7.72c-.78.78-.78 2.05 0 2.83L4 21.41c.39.39.9.59 1.41.59.51 0 1.02-.2 1.41-.59l7.78-7.78 2.81-2.81c.8-.78.8-2.07 0-2.86zM5.41 20L4 18.59l7.72-7.72 1.47 1.35L5.41 20z\"/>\n",
              "  </svg>\n",
              "      </button>\n",
              "      \n",
              "  <style>\n",
              "    .colab-df-container {\n",
              "      display:flex;\n",
              "      flex-wrap:wrap;\n",
              "      gap: 12px;\n",
              "    }\n",
              "\n",
              "    .colab-df-convert {\n",
              "      background-color: #E8F0FE;\n",
              "      border: none;\n",
              "      border-radius: 50%;\n",
              "      cursor: pointer;\n",
              "      display: none;\n",
              "      fill: #1967D2;\n",
              "      height: 32px;\n",
              "      padding: 0 0 0 0;\n",
              "      width: 32px;\n",
              "    }\n",
              "\n",
              "    .colab-df-convert:hover {\n",
              "      background-color: #E2EBFA;\n",
              "      box-shadow: 0px 1px 2px rgba(60, 64, 67, 0.3), 0px 1px 3px 1px rgba(60, 64, 67, 0.15);\n",
              "      fill: #174EA6;\n",
              "    }\n",
              "\n",
              "    [theme=dark] .colab-df-convert {\n",
              "      background-color: #3B4455;\n",
              "      fill: #D2E3FC;\n",
              "    }\n",
              "\n",
              "    [theme=dark] .colab-df-convert:hover {\n",
              "      background-color: #434B5C;\n",
              "      box-shadow: 0px 1px 3px 1px rgba(0, 0, 0, 0.15);\n",
              "      filter: drop-shadow(0px 1px 2px rgba(0, 0, 0, 0.3));\n",
              "      fill: #FFFFFF;\n",
              "    }\n",
              "  </style>\n",
              "\n",
              "      <script>\n",
              "        const buttonEl =\n",
              "          document.querySelector('#df-b5de6476-09bd-47b7-9478-e0b97002e6c6 button.colab-df-convert');\n",
              "        buttonEl.style.display =\n",
              "          google.colab.kernel.accessAllowed ? 'block' : 'none';\n",
              "\n",
              "        async function convertToInteractive(key) {\n",
              "          const element = document.querySelector('#df-b5de6476-09bd-47b7-9478-e0b97002e6c6');\n",
              "          const dataTable =\n",
              "            await google.colab.kernel.invokeFunction('convertToInteractive',\n",
              "                                                     [key], {});\n",
              "          if (!dataTable) return;\n",
              "\n",
              "          const docLinkHtml = 'Like what you see? Visit the ' +\n",
              "            '<a target=\"_blank\" href=https://colab.research.google.com/notebooks/data_table.ipynb>data table notebook</a>'\n",
              "            + ' to learn more about interactive tables.';\n",
              "          element.innerHTML = '';\n",
              "          dataTable['output_type'] = 'display_data';\n",
              "          await google.colab.output.renderOutput(dataTable, element);\n",
              "          const docLink = document.createElement('div');\n",
              "          docLink.innerHTML = docLinkHtml;\n",
              "          element.appendChild(docLink);\n",
              "        }\n",
              "      </script>\n",
              "    </div>\n",
              "  </div>\n",
              "  "
            ]
          },
          "metadata": {},
          "execution_count": 5
        }
      ],
      "source": [
        "import pandas as pd\n",
        "Ecommerce_Customers=pd.read_csv(\"/Mod8_EcommerceCustomers.csv\")\n",
        "Ecommerce_Customers\n"
      ]
    },
    {
      "cell_type": "code",
      "source": [
        "\n",
        "#X=pd.DataFrame(Ecommerce_Customers[\"Avg Session Length\",\"Time on App\",\"Time on Website\",\"Length of Membership\"])\n"
      ],
      "metadata": {
        "id": "aP8fpC9hxVf8"
      },
      "execution_count": null,
      "outputs": []
    },
    {
      "cell_type": "code",
      "source": [
        "X=pd.DataFrame(Ecommerce_Customers.loc[:,[\"Avg Session Length\",\"Time on App\",\"Time on Website\",\"Length of Membership\"]])\n",
        "Y=pd.DataFrame(Ecommerce_Customers[\"Yearly Amount Spent\"])\n"
      ],
      "metadata": {
        "id": "Qcvlb_tE8hMY"
      },
      "execution_count": null,
      "outputs": []
    },
    {
      "cell_type": "code",
      "execution_count": null,
      "metadata": {
        "id": "4df8aacb"
      },
      "outputs": [],
      "source": [
        "from sklearn.model_selection import train_test_split\n",
        "X_train, X_test, Y_train, Y_test = train_test_split(X, Y, test_size=0.2)"
      ]
    },
    {
      "cell_type": "code",
      "source": [
        "from sklearn.linear_model import LinearRegression\n",
        "\n",
        "lin_reg = LinearRegression()\n",
        "\n",
        "lin_reg.fit(X_train, Y_train)"
      ],
      "metadata": {
        "colab": {
          "base_uri": "https://localhost:8080/"
        },
        "id": "2VZ4dn5l9vn2",
        "outputId": "ac98fc44-10d7-4f7e-f95a-eaf9135d32c5"
      },
      "execution_count": null,
      "outputs": [
        {
          "output_type": "execute_result",
          "data": {
            "text/plain": [
              "LinearRegression()"
            ]
          },
          "metadata": {},
          "execution_count": 38
        }
      ]
    },
    {
      "cell_type": "code",
      "source": [
        "y_pred = lin_reg.predict(X_test)\n"
      ],
      "metadata": {
        "id": "t2vepYxh-NrM"
      },
      "execution_count": null,
      "outputs": []
    },
    {
      "cell_type": "code",
      "source": [
        "from sklearn.metrics import r2_score\n",
        "\n",
        "r2_score(Y_test, y_pred)"
      ],
      "metadata": {
        "colab": {
          "base_uri": "https://localhost:8080/"
        },
        "id": "yck_IjJe-c5_",
        "outputId": "c3967e5b-5e83-4878-d9da-0fe903b58045"
      },
      "execution_count": null,
      "outputs": [
        {
          "output_type": "execute_result",
          "data": {
            "text/plain": [
              "0.9845608485656092"
            ]
          },
          "metadata": {},
          "execution_count": 40
        }
      ]
    },
    {
      "cell_type": "code",
      "source": [
        "from sklearn import metrics\n",
        "\n",
        "print(metrics.mean_squared_error(Y_test,y_pred))"
      ],
      "metadata": {
        "colab": {
          "base_uri": "https://localhost:8080/"
        },
        "id": "8BfRAdCu-frq",
        "outputId": "2c8b3e9c-ee77-47c5-8a74-9e3fc177c610"
      },
      "execution_count": null,
      "outputs": [
        {
          "output_type": "stream",
          "name": "stdout",
          "text": [
            "108.53346467062279\n"
          ]
        }
      ]
    },
    {
      "cell_type": "code",
      "source": [
        "#import pandas as pd\n",
        "#facebook_data=pd.read_csv(\"/content/dataset_Facebook_cos.csv\")\n",
        "#facebook_data"
      ],
      "metadata": {
        "id": "rFBN0zwN5olk"
      },
      "execution_count": null,
      "outputs": []
    },
    {
      "cell_type": "code",
      "source": [
        "!pip install pyspark"
      ],
      "metadata": {
        "colab": {
          "base_uri": "https://localhost:8080/"
        },
        "id": "H2r_Pwq57v6h",
        "outputId": "eb3bb1c9-9780-4190-9075-c678998da5bb"
      },
      "execution_count": null,
      "outputs": [
        {
          "output_type": "stream",
          "name": "stdout",
          "text": [
            "Looking in indexes: https://pypi.org/simple, https://us-python.pkg.dev/colab-wheels/public/simple/\n",
            "Collecting pyspark\n",
            "  Downloading pyspark-3.3.1.tar.gz (281.4 MB)\n",
            "\u001b[2K     \u001b[90m━━━━━━━━━━━━━━━━━━━━━━━━━━━━━━━━━━━━━━━\u001b[0m \u001b[32m281.4/281.4 MB\u001b[0m \u001b[31m4.7 MB/s\u001b[0m eta \u001b[36m0:00:00\u001b[0m\n",
            "\u001b[?25h  Preparing metadata (setup.py) ... \u001b[?25l\u001b[?25hdone\n",
            "Collecting py4j==0.10.9.5\n",
            "  Downloading py4j-0.10.9.5-py2.py3-none-any.whl (199 kB)\n",
            "\u001b[2K     \u001b[90m━━━━━━━━━━━━━━━━━━━━━━━━━━━━━━━━━━━━━━\u001b[0m \u001b[32m199.7/199.7 KB\u001b[0m \u001b[31m24.1 MB/s\u001b[0m eta \u001b[36m0:00:00\u001b[0m\n",
            "\u001b[?25hBuilding wheels for collected packages: pyspark\n",
            "  Building wheel for pyspark (setup.py) ... \u001b[?25l\u001b[?25hdone\n",
            "  Created wheel for pyspark: filename=pyspark-3.3.1-py2.py3-none-any.whl size=281845512 sha256=7b2e975ba63a4cff0a904be361552ab6705b694b31a43da8436ac7b2c15ffd0a\n",
            "  Stored in directory: /root/.cache/pip/wheels/43/dc/11/ec201cd671da62fa9c5cc77078235e40722170ceba231d7598\n",
            "Successfully built pyspark\n",
            "Installing collected packages: py4j, pyspark\n",
            "Successfully installed py4j-0.10.9.5 pyspark-3.3.1\n"
          ]
        }
      ]
    },
    {
      "cell_type": "code",
      "source": [
        "from pyspark.sql import SparkSession\n",
        "spark=SparkSession.builder.master(\"local[*]\").getOrCreate()\n",
        "facebook_data=spark.read.option(\"header\",\"true\").csv(\"/content/dataset_Facebook_cos.csv\")\n",
        "facebook_data.show(10)\n"
      ],
      "metadata": {
        "colab": {
          "base_uri": "https://localhost:8080/"
        },
        "id": "gAbZ-v3Z8JX9",
        "outputId": "3f78c3c0-e223-45fe-8e74-abe12a187a77"
      },
      "execution_count": null,
      "outputs": [
        {
          "output_type": "stream",
          "name": "stdout",
          "text": [
            "+----------------+------+--------+----------+------------+---------+----+-------------------------+-------------------------------+----------------------+-----------------------+--------------------------+------------------------------------------------------------+------------------------------------------------+-------------------------------------------------------------------+-------+----+-----+------------------+\n",
            "|Page total likes|  Type|Category|Post Month|Post Weekday|Post Hour|Paid|Lifetime Post Total Reach|Lifetime Post Total Impressions|Lifetime Engaged Users|Lifetime Post Consumers|Lifetime Post Consumptions|Lifetime Post Impressions by people who have liked your Page|Lifetime Post reach by people who like your Page|Lifetime People who have liked your Page and engaged with your post|comment|like|share|Total Interactions|\n",
            "+----------------+------+--------+----------+------------+---------+----+-------------------------+-------------------------------+----------------------+-----------------------+--------------------------+------------------------------------------------------------+------------------------------------------------+-------------------------------------------------------------------+-------+----+-----+------------------+\n",
            "|          139441| Photo|       2|        12|           4|        3|   0|                     2752|                           5091|                   178|                    109|                       159|                                                        3078|                                            1640|                                                                119|      4|  79|   17|               100|\n",
            "|          139441|Status|       2|        12|           3|       10|   0|                    10460|                          19057|                  1457|                   1361|                      1674|                                                       11710|                                            6112|                                                               1108|      5| 130|   29|               164|\n",
            "|          139441| Photo|       3|        12|           3|        3|   0|                     2413|                           4373|                   177|                    113|                       154|                                                        2812|                                            1503|                                                                132|      0|  66|   14|                80|\n",
            "|          139441| Photo|       2|        12|           2|       10|   1|                    50128|                          87991|                  2211|                    790|                      1119|                                                       61027|                                           32048|                                                               1386|     58|1572|  147|              1777|\n",
            "|          139441| Photo|       2|        12|           2|        3|   0|                     7244|                          13594|                   671|                    410|                       580|                                                        6228|                                            3200|                                                                396|     19| 325|   49|               393|\n",
            "|          139441|Status|       2|        12|           1|        9|   0|                    10472|                          20849|                  1191|                   1073|                      1389|                                                       16034|                                            7852|                                                               1016|      1| 152|   33|               186|\n",
            "|          139441| Photo|       3|        12|           1|        3|   1|                    11692|                          19479|                   481|                    265|                       364|                                                       15432|                                            9328|                                                                379|      3| 249|   27|               279|\n",
            "|          139441| Photo|       3|        12|           7|        9|   1|                    13720|                          24137|                   537|                    232|                       305|                                                       19728|                                           11056|                                                                422|      0| 325|   14|               339|\n",
            "|          139441|Status|       2|        12|           7|        3|   0|                    11844|                          22538|                  1530|                   1407|                      1692|                                                       15220|                                            7912|                                                               1250|      0| 161|   31|               192|\n",
            "|          139441| Photo|       3|        12|           6|       10|   0|                     4694|                           8668|                   280|                    183|                       250|                                                        4309|                                            2324|                                                                199|      3| 113|   26|               142|\n",
            "+----------------+------+--------+----------+------------+---------+----+-------------------------+-------------------------------+----------------------+-----------------------+--------------------------+------------------------------------------------------------+------------------------------------------------+-------------------------------------------------------------------+-------+----+-----+------------------+\n",
            "only showing top 10 rows\n",
            "\n"
          ]
        }
      ]
    },
    {
      "cell_type": "code",
      "source": [
        "NewColumns=(column.replace(' ', '_') for column in facebook_data.columns)\n",
        "facebook_data = facebook_data.toDF(*NewColumns)\n",
        "facebook_data"
      ],
      "metadata": {
        "colab": {
          "base_uri": "https://localhost:8080/"
        },
        "id": "W6fFEhswKLc4",
        "outputId": "1facaee2-728c-4c70-f969-0a963864faa6"
      },
      "execution_count": null,
      "outputs": [
        {
          "output_type": "execute_result",
          "data": {
            "text/plain": [
              "DataFrame[Page_total_likes: string, Type: string, Category: string, Post_Month: string, Post_Weekday: string, Post_Hour: string, Paid: string, Lifetime_Post_Total_Reach: string, Lifetime_Post_Total_Impressions: string, Lifetime_Engaged_Users: string, Lifetime_Post_Consumers: string, Lifetime_Post_Consumptions: string, Lifetime_Post_Impressions_by_people_who_have_liked_your_Page: string, Lifetime_Post_reach_by_people_who_like_your_Page: string, Lifetime_People_who_have_liked_your_Page_and_engaged_with_your_post: string, comment: string, like: string, share: string, Total_Interactions: string]"
            ]
          },
          "metadata": {},
          "execution_count": 5
        }
      ]
    },
    {
      "cell_type": "code",
      "source": [
        "print(NewColumns)"
      ],
      "metadata": {
        "colab": {
          "base_uri": "https://localhost:8080/"
        },
        "id": "mDJkCTewOMUv",
        "outputId": "1e5c1562-1706-454a-bdd8-3dff9d21c633"
      },
      "execution_count": null,
      "outputs": [
        {
          "output_type": "stream",
          "name": "stdout",
          "text": [
            "<generator object <genexpr> at 0x7f73a4b2e890>\n"
          ]
        }
      ]
    },
    {
      "cell_type": "code",
      "source": [
        "for i in facebook_data.columns:\n",
        "  print(i)"
      ],
      "metadata": {
        "colab": {
          "base_uri": "https://localhost:8080/"
        },
        "id": "VRbSUVNzPEod",
        "outputId": "e22b05d1-bc89-4ed9-bc09-3fa6a288c47e"
      },
      "execution_count": null,
      "outputs": [
        {
          "output_type": "stream",
          "name": "stdout",
          "text": [
            "Page_total_likes\n",
            "Type\n",
            "Category\n",
            "Post_Month\n",
            "Post_Weekday\n",
            "Post_Hour\n",
            "Paid\n",
            "Lifetime_Post_Total_Reach\n",
            "Lifetime_Post_Total_Impressions\n",
            "Lifetime_Engaged_Users\n",
            "Lifetime_Post_Consumers\n",
            "Lifetime_Post_Consumptions\n",
            "Lifetime_Post_Impressions_by_people_who_have_liked_your_Page\n",
            "Lifetime_Post_reach_by_people_who_like_your_Page\n",
            "Lifetime_People_who_have_liked_your_Page_and_engaged_with_your_post\n",
            "comment\n",
            "like\n",
            "share\n",
            "Total_Interactions\n"
          ]
        }
      ]
    },
    {
      "cell_type": "code",
      "source": [
        "facebook_data2 = facebook_data.withColumn(\"Page_total_likes\", \n",
        "                                  facebook_data[\"Page_total_likes\"]\n",
        "                                  .cast('integer')).withColumn(\"Category\", \n",
        "                                  facebook_data[\"Category\"]\n",
        "                                  .cast('integer')).withColumn(\"Post_Month\", \n",
        "                                  facebook_data[\"Post_Month\"]\n",
        "                                  .cast('integer')).withColumn(\"Post_Weekday\", \n",
        "                                  facebook_data[\"Post_Weekday\"]\n",
        "                                  .cast('integer')).withColumn(\"Post_Hour\", \n",
        "                                  facebook_data[\"Post_Hour\"]\n",
        "                                  .cast('integer')).withColumn(\"Lifetime_Post_Total_Reach\", \n",
        "                                  facebook_data[\"Lifetime_Post_Total_Reach\"]\n",
        "                                  .cast('integer')).withColumn(\"Lifetime_Post_Total_Impressions\", \n",
        "                                  facebook_data[\"Lifetime_Post_Total_Impressions\"]\n",
        "                                  .cast('integer')).withColumn(\"Lifetime_Engaged_Users\", \n",
        "                                  facebook_data[\"Lifetime_Engaged_Users\"]\n",
        "                                  .cast('integer')).withColumn(\"Lifetime_Post_Consumers\", \n",
        "                                  facebook_data[\"Lifetime_Post_Consumers\"]\n",
        "                                  .cast('integer')).withColumn(\"Lifetime_Post_Consumptions\", \n",
        "                                  facebook_data[\"Lifetime_Post_Consumptions\"]\n",
        "                                  .cast('integer')).withColumn(\"Lifetime_Post_Impressions_by_people_who_have_liked_your_Page\", \n",
        "                                  facebook_data[\"Lifetime_Post_Impressions_by_people_who_have_liked_your_Page\"]\n",
        "                                  .cast('integer')).withColumn(\"Lifetime_Post_reach_by_people_who_like_your_Page\", \n",
        "                                  facebook_data[\"Lifetime_Post_reach_by_people_who_like_your_Page\"]\n",
        "                                  .cast('integer')).withColumn(\"Lifetime_People_who_have_liked_your_Page_and_engaged_with_your_post\", \n",
        "                                  facebook_data[\"Lifetime_People_who_have_liked_your_Page_and_engaged_with_your_post\"]\n",
        "                                  .cast('integer')).withColumn(\"comment\", \n",
        "                                  facebook_data[\"comment\"]\n",
        "                                  .cast('integer')).withColumn(\"like\", \n",
        "                                  facebook_data[\"like\"]\n",
        "                                  .cast('integer')).withColumn(\"share\", \n",
        "                                  facebook_data[\"share\"]\n",
        "                                  .cast('integer')).withColumn(\"Total_Interactions\", \n",
        "                                  facebook_data[\"Total_Interactions\"]\n",
        "                                  .cast('integer'))\n",
        "facebook_data2.printSchema()"
      ],
      "metadata": {
        "colab": {
          "base_uri": "https://localhost:8080/"
        },
        "id": "g0BamhPoQaMq",
        "outputId": "279761b4-8835-4723-a9bb-6429c5ed4c9d"
      },
      "execution_count": null,
      "outputs": [
        {
          "output_type": "stream",
          "name": "stdout",
          "text": [
            "root\n",
            " |-- Page_total_likes: integer (nullable = true)\n",
            " |-- Type: string (nullable = true)\n",
            " |-- Category: integer (nullable = true)\n",
            " |-- Post_Month: integer (nullable = true)\n",
            " |-- Post_Weekday: integer (nullable = true)\n",
            " |-- Post_Hour: integer (nullable = true)\n",
            " |-- Paid: string (nullable = true)\n",
            " |-- Lifetime_Post_Total_Reach: integer (nullable = true)\n",
            " |-- Lifetime_Post_Total_Impressions: integer (nullable = true)\n",
            " |-- Lifetime_Engaged_Users: integer (nullable = true)\n",
            " |-- Lifetime_Post_Consumers: integer (nullable = true)\n",
            " |-- Lifetime_Post_Consumptions: integer (nullable = true)\n",
            " |-- Lifetime_Post_Impressions_by_people_who_have_liked_your_Page: integer (nullable = true)\n",
            " |-- Lifetime_Post_reach_by_people_who_like_your_Page: integer (nullable = true)\n",
            " |-- Lifetime_People_who_have_liked_your_Page_and_engaged_with_your_post: integer (nullable = true)\n",
            " |-- comment: integer (nullable = true)\n",
            " |-- like: integer (nullable = true)\n",
            " |-- share: integer (nullable = true)\n",
            " |-- Total_Interactions: integer (nullable = true)\n",
            "\n"
          ]
        }
      ]
    },
    {
      "cell_type": "code",
      "source": [
        "facebook_data.count()"
      ],
      "metadata": {
        "colab": {
          "base_uri": "https://localhost:8080/"
        },
        "id": "IxSOwdjLSHNl",
        "outputId": "6ba409a7-855c-4d92-d6e0-6b9e136e01d7"
      },
      "execution_count": null,
      "outputs": [
        {
          "output_type": "execute_result",
          "data": {
            "text/plain": [
              "500"
            ]
          },
          "metadata": {},
          "execution_count": 10
        }
      ]
    },
    {
      "cell_type": "code",
      "source": [
        "from pyspark.sql.functions import max\n",
        "facebook_data2.select(max(facebook_data2.Page_total_likes)).show()"
      ],
      "metadata": {
        "colab": {
          "base_uri": "https://localhost:8080/"
        },
        "id": "EbYBuVH0AbB2",
        "outputId": "aa88b53b-a7de-4fa5-c5ff-8913a912ae03"
      },
      "execution_count": null,
      "outputs": [
        {
          "output_type": "stream",
          "name": "stdout",
          "text": [
            "+---------------------+\n",
            "|max(Page_total_likes)|\n",
            "+---------------------+\n",
            "|               139441|\n",
            "+---------------------+\n",
            "\n"
          ]
        }
      ]
    },
    {
      "cell_type": "code",
      "source": [
        "b=facebook_data2.agg({\"Post_Month\":\"max\"})\n",
        "b"
      ],
      "metadata": {
        "colab": {
          "base_uri": "https://localhost:8080/"
        },
        "id": "TUnHB8vBXuO-",
        "outputId": "310f8032-e905-438a-cc15-49071420a6ab"
      },
      "execution_count": null,
      "outputs": [
        {
          "output_type": "execute_result",
          "data": {
            "text/plain": [
              "DataFrame[max(Post_Month): int]"
            ]
          },
          "metadata": {},
          "execution_count": 14
        }
      ]
    },
    {
      "cell_type": "code",
      "source": [
        " df=facebook_data2.groupBy(\"Post_Month\").avg(\"Total_Interactions\")\n",
        " df.agg({\"avg(Total_Interactions)\":\"max\"}).show()"
      ],
      "metadata": {
        "colab": {
          "base_uri": "https://localhost:8080/"
        },
        "id": "KQYCKWTiTmPd",
        "outputId": "747a7014-063f-4888-d7ea-614de5b51c71"
      },
      "execution_count": null,
      "outputs": [
        {
          "output_type": "stream",
          "name": "stdout",
          "text": [
            "+----------------------------+\n",
            "|max(avg(Total_Interactions))|\n",
            "+----------------------------+\n",
            "|                       328.5|\n",
            "+----------------------------+\n",
            "\n"
          ]
        }
      ]
    },
    {
      "cell_type": "code",
      "source": [
        "facebook_data2.createOrReplaceTempView(\"facebook\")\n",
        "spark.sql(\"select (max(Page_total_likes)-min(Page_total_likes)) increase from facebook\").show()"
      ],
      "metadata": {
        "colab": {
          "base_uri": "https://localhost:8080/"
        },
        "id": "nyA_f_GTHI3b",
        "outputId": "e88813b9-48fc-445c-b882-e06a082163d4"
      },
      "execution_count": null,
      "outputs": [
        {
          "output_type": "stream",
          "name": "stdout",
          "text": [
            "+--------+\n",
            "|increase|\n",
            "+--------+\n",
            "|   58071|\n",
            "+--------+\n",
            "\n"
          ]
        }
      ]
    },
    {
      "cell_type": "code",
      "source": [
        "df=facebook_data2.groupBy(\"Post_Weekday\").avg(\"Total_Interactions\").alias(\"avg_Interactions\")\n",
        "df.show()\n",
        "#df.agg({\"Post_Weekday\":\"count\",\"avg(Total_Interactions)\":\"max\"}).show()\n",
        "#df.createOrReplaceTempView(\"df1\")\n",
        "#spark.sql(\"select Post_Weekday,max(avg_Interactions) from df1\")"
      ],
      "metadata": {
        "colab": {
          "base_uri": "https://localhost:8080/"
        },
        "id": "VMenwJ67lS4p",
        "outputId": "92aeedfd-55da-4f42-e66e-ce1a6e5cc428"
      },
      "execution_count": null,
      "outputs": [
        {
          "output_type": "stream",
          "name": "stdout",
          "text": [
            "+------------+-----------------------+\n",
            "|Post_Weekday|avg(Total_Interactions)|\n",
            "+------------+-----------------------+\n",
            "|           1|     237.02941176470588|\n",
            "|           6|     162.80246913580248|\n",
            "|           3|             287.765625|\n",
            "|           5|      205.3134328358209|\n",
            "|           4|     260.52777777777777|\n",
            "|           7|     153.58536585365854|\n",
            "|           2|     200.45454545454547|\n",
            "+------------+-----------------------+\n",
            "\n"
          ]
        }
      ]
    },
    {
      "cell_type": "code",
      "source": [
        "facebook_data2.createOrReplaceTempView(\"df1\")\n",
        "spark.sql(\"select Post_Weekday,avg(Total_Interactions) avg_Interactions from df1 group by Post_Weekday order by avg_Interactions desc limit 1\").show()"
      ],
      "metadata": {
        "colab": {
          "base_uri": "https://localhost:8080/"
        },
        "id": "u8FM7Rf5qu4E",
        "outputId": "25ee6b55-f41d-4023-ac91-ab17fff6dfeb"
      },
      "execution_count": null,
      "outputs": [
        {
          "output_type": "stream",
          "name": "stdout",
          "text": [
            "+------------+----------------+\n",
            "|Post_Weekday|avg_Interactions|\n",
            "+------------+----------------+\n",
            "|           3|      287.765625|\n",
            "+------------+----------------+\n",
            "\n"
          ]
        }
      ]
    },
    {
      "cell_type": "code",
      "source": [
        "facebook_data2.show()"
      ],
      "metadata": {
        "colab": {
          "base_uri": "https://localhost:8080/"
        },
        "id": "6JKD6h-HtULN",
        "outputId": "53584324-e2d9-4104-818e-0cb2668f0573"
      },
      "execution_count": null,
      "outputs": [
        {
          "output_type": "stream",
          "name": "stdout",
          "text": [
            "+----------------+------+--------+----------+------------+---------+----+-------------------------+-------------------------------+----------------------+-----------------------+--------------------------+------------------------------------------------------------+------------------------------------------------+-------------------------------------------------------------------+-------+----+-----+------------------+\n",
            "|Page_total_likes|  Type|Category|Post_Month|Post_Weekday|Post_Hour|Paid|Lifetime_Post_Total_Reach|Lifetime_Post_Total_Impressions|Lifetime_Engaged_Users|Lifetime_Post_Consumers|Lifetime_Post_Consumptions|Lifetime_Post_Impressions_by_people_who_have_liked_your_Page|Lifetime_Post_reach_by_people_who_like_your_Page|Lifetime_People_who_have_liked_your_Page_and_engaged_with_your_post|comment|like|share|Total_Interactions|\n",
            "+----------------+------+--------+----------+------------+---------+----+-------------------------+-------------------------------+----------------------+-----------------------+--------------------------+------------------------------------------------------------+------------------------------------------------+-------------------------------------------------------------------+-------+----+-----+------------------+\n",
            "|          139441| Photo|       2|        12|           4|        3|   0|                     2752|                           5091|                   178|                    109|                       159|                                                        3078|                                            1640|                                                                119|      4|  79|   17|               100|\n",
            "|          139441|Status|       2|        12|           3|       10|   0|                    10460|                          19057|                  1457|                   1361|                      1674|                                                       11710|                                            6112|                                                               1108|      5| 130|   29|               164|\n",
            "|          139441| Photo|       3|        12|           3|        3|   0|                     2413|                           4373|                   177|                    113|                       154|                                                        2812|                                            1503|                                                                132|      0|  66|   14|                80|\n",
            "|          139441| Photo|       2|        12|           2|       10|   1|                    50128|                          87991|                  2211|                    790|                      1119|                                                       61027|                                           32048|                                                               1386|     58|1572|  147|              1777|\n",
            "|          139441| Photo|       2|        12|           2|        3|   0|                     7244|                          13594|                   671|                    410|                       580|                                                        6228|                                            3200|                                                                396|     19| 325|   49|               393|\n",
            "|          139441|Status|       2|        12|           1|        9|   0|                    10472|                          20849|                  1191|                   1073|                      1389|                                                       16034|                                            7852|                                                               1016|      1| 152|   33|               186|\n",
            "|          139441| Photo|       3|        12|           1|        3|   1|                    11692|                          19479|                   481|                    265|                       364|                                                       15432|                                            9328|                                                                379|      3| 249|   27|               279|\n",
            "|          139441| Photo|       3|        12|           7|        9|   1|                    13720|                          24137|                   537|                    232|                       305|                                                       19728|                                           11056|                                                                422|      0| 325|   14|               339|\n",
            "|          139441|Status|       2|        12|           7|        3|   0|                    11844|                          22538|                  1530|                   1407|                      1692|                                                       15220|                                            7912|                                                               1250|      0| 161|   31|               192|\n",
            "|          139441| Photo|       3|        12|           6|       10|   0|                     4694|                           8668|                   280|                    183|                       250|                                                        4309|                                            2324|                                                                199|      3| 113|   26|               142|\n",
            "|          139441|Status|       2|        12|           5|       10|   0|                    21744|                          42334|                  4258|                   4100|                      4540|                                                       37849|                                           18952|                                                               3798|      0| 233|   19|               252|\n",
            "|          139441| Photo|       2|        12|           5|       10|   0|                     3112|                           5590|                   208|                    127|                       145|                                                        3887|                                            2174|                                                                165|      0|  88|   18|               106|\n",
            "|          139441| Photo|       2|        12|           5|       10|   0|                     2847|                           5133|                   193|                    115|                       133|                                                        3779|                                            2072|                                                                152|      0|  90|   14|               104|\n",
            "|          139441| Photo|       2|        12|           5|        3|   0|                     2549|                           4896|                   249|                    134|                       168|                                                        3631|                                            1917|                                                                183|      5| 137|   10|               152|\n",
            "|          138414| Photo|       2|        12|           4|        5|   1|                    22784|                          39941|                   887|                    337|                       417|                                                       34415|                                           19312|                                                                684|      2| 577|   20|               599|\n",
            "|          138414|Status|       2|        12|           3|       10|   0|                    10060|                          19680|                  1264|                   1209|                      1425|                                                       17272|                                            8548|                                                               1162|      4|  86|   18|               108|\n",
            "|          138414| Photo|       3|        12|           3|        3|   0|                     1722|                           2981|                   163|                    123|                       148|                                                        1868|                                            1050|                                                                123|      2|  40|   12|                54|\n",
            "|          138414| Photo|       1|        12|           2|       12|   1|                    53264|                         111785|                  1706|                   1103|                      1655|                                                       92512|                                           39776|                                                               1307|     15| 678|   20|               713|\n",
            "|          138414|Status|       3|        12|           2|        3|   0|                     3930|                           7509|                   130|                     86|                       112|                                                        5009|                                            2410|                                                                101|      4|  54|   17|                75|\n",
            "|          138414| Photo|       3|        12|           1|       11|   0|                     1591|                           2825|                   121|                     88|                       111|                                                        2116|                                            1161|                                                                100|      0|  34|    8|                42|\n",
            "+----------------+------+--------+----------+------------+---------+----+-------------------------+-------------------------------+----------------------+-----------------------+--------------------------+------------------------------------------------------------+------------------------------------------------+-------------------------------------------------------------------+-------+----+-----+------------------+\n",
            "only showing top 20 rows\n",
            "\n"
          ]
        }
      ]
    },
    {
      "cell_type": "code",
      "source": [
        "facebook_data2.createOrReplaceTempView(\"df1\")\n",
        "spark.sql(\"select min(Post_Weekday),avg(Total_Interactions) avg_Total_Interactions from df1  group by Post_Weekday order by avg_Total_Interactions desc\").show()"
      ],
      "metadata": {
        "colab": {
          "base_uri": "https://localhost:8080/"
        },
        "id": "Ez4Ahl-f9mCs",
        "outputId": "8de1f40c-85d8-402c-a49e-c0ea433b7bc4"
      },
      "execution_count": null,
      "outputs": [
        {
          "output_type": "stream",
          "name": "stdout",
          "text": [
            "+-----------------+----------------------+\n",
            "|min(Post_Weekday)|avg_Total_Interactions|\n",
            "+-----------------+----------------------+\n",
            "|                3|            287.765625|\n",
            "|                4|    260.52777777777777|\n",
            "|                1|    237.02941176470588|\n",
            "|                5|     205.3134328358209|\n",
            "|                2|    200.45454545454547|\n",
            "|                6|    162.80246913580248|\n",
            "|                7|    153.58536585365854|\n",
            "+-----------------+----------------------+\n",
            "\n"
          ]
        }
      ]
    },
    {
      "cell_type": "code",
      "source": [
        "facebook_data2.createOrReplaceTempView(\"df1\")\n",
        "spark.sql(\"select Type,count(Type) count_type,sum() from df1   group by Post_Hour order by count_type desc limit 1\").show()"
      ],
      "metadata": {
        "colab": {
          "base_uri": "https://localhost:8080/"
        },
        "id": "sRqJI4rdr68U",
        "outputId": "db8f88b3-460d-4d8f-9b4c-5022e5a775f7"
      },
      "execution_count": null,
      "outputs": [
        {
          "output_type": "stream",
          "name": "stdout",
          "text": [
            "+-----+----------+\n",
            "| Type|count_type|\n",
            "+-----+----------+\n",
            "|Photo|       426|\n",
            "+-----+----------+\n",
            "\n"
          ]
        }
      ]
    },
    {
      "cell_type": "code",
      "source": [
        "df=facebook_data2.where(facebook_data2[\"Type\"]== \"Photo\")\n",
        "df.createOrReplaceTempView(\"df1\")\n",
        "spark.sql(\"select max(Post_Hour),sum(Lifetime_Post_Total_Impressions) sum_Lifetime_Post_Total_Impressions from df1 group by Post_Hour order by sum_Lifetime_Post_Total_Impressions desc limit 1\").show()"
      ],
      "metadata": {
        "colab": {
          "base_uri": "https://localhost:8080/"
        },
        "id": "oesbD5WnsaS8",
        "outputId": "cba2cc49-9f6d-41dd-c3f5-1e545c7e5e02"
      },
      "execution_count": null,
      "outputs": [
        {
          "output_type": "stream",
          "name": "stdout",
          "text": [
            "+--------------+-----------------------------------+\n",
            "|max(Post_Hour)|sum_Lifetime_Post_Total_Impressions|\n",
            "+--------------+-----------------------------------+\n",
            "|            13|                            2389483|\n",
            "+--------------+-----------------------------------+\n",
            "\n"
          ]
        }
      ]
    },
    {
      "cell_type": "code",
      "source": [
        "df=facebook_data2.where(facebook_data2[\"Type\"]== \"Photo\")\n",
        "df.createOrReplaceTempView(\"df1\")\n",
        "spark.sql(\"select (like/comment) like_to_comment_ratio from df1\").show()"
      ],
      "metadata": {
        "colab": {
          "base_uri": "https://localhost:8080/"
        },
        "id": "tj0wcCWayB3j",
        "outputId": "e6bc85a4-e679-4063-b93a-6417ce38a36a"
      },
      "execution_count": null,
      "outputs": [
        {
          "output_type": "stream",
          "name": "stdout",
          "text": [
            "+---------------------+\n",
            "|like_to_comment_ratio|\n",
            "+---------------------+\n",
            "|                19.75|\n",
            "|                 null|\n",
            "|   27.103448275862068|\n",
            "|   17.105263157894736|\n",
            "|                 83.0|\n",
            "|                 null|\n",
            "|   37.666666666666664|\n",
            "|                 null|\n",
            "|                 null|\n",
            "|                 27.4|\n",
            "|                288.5|\n",
            "|                 20.0|\n",
            "|                 45.2|\n",
            "|                 null|\n",
            "|                 22.0|\n",
            "|                 null|\n",
            "|                 null|\n",
            "|                 null|\n",
            "|   14.527777777777779|\n",
            "|    3.242424242424242|\n",
            "+---------------------+\n",
            "only showing top 20 rows\n",
            "\n"
          ]
        }
      ]
    },
    {
      "cell_type": "code",
      "source": [
        "#df=facebook_data2.where(facebook_data2[\"Type\"]== \"Photo\")\n",
        "facebook_data2.createOrReplaceTempView(\"df1\")\n",
        "spark.sql(\"select min(Category),avg(Lifetime_Post_Total_Reach) avg_Lifetime_Post_Total_Reach from df1 group by Category order by avg_Lifetime_Post_Total_Reach desc\").show()\n",
        "#spark.sql(\"select count(Category),avg(Lifetime_Post_Total_Reach) from df1 group by Category order by Lifetime_Post_Total_Reach desc limit 3\").show()"
      ],
      "metadata": {
        "colab": {
          "base_uri": "https://localhost:8080/"
        },
        "id": "NFbe-CalyuZO",
        "outputId": "bc1bd85f-7d1b-4efa-c851-cb56be1de1de"
      },
      "execution_count": null,
      "outputs": [
        {
          "output_type": "stream",
          "name": "stdout",
          "text": [
            "+-------------+-----------------------------+\n",
            "|min(Category)|avg_Lifetime_Post_Total_Reach|\n",
            "+-------------+-----------------------------+\n",
            "|            1|           18320.981395348837|\n",
            "|            3|           11162.154838709677|\n",
            "|            2|            9865.653846153846|\n",
            "+-------------+-----------------------------+\n",
            "\n"
          ]
        }
      ]
    },
    {
      "cell_type": "code",
      "source": [
        "df1=facebook_data2.groupBy(\"Post_Hour\").agg({\"Lifetime_Post_Total_Reach\":\"avg\"})\n",
        "df2=df1.agg({\"avg(Lifetime_Post_Total_Reach)\":\"stddev\"})\n",
        "df2.show()"
      ],
      "metadata": {
        "colab": {
          "base_uri": "https://localhost:8080/"
        },
        "id": "G6BCn8p91eDb",
        "outputId": "e28bf4de-ba30-4cf4-dc02-3be88dbf25f5"
      },
      "execution_count": null,
      "outputs": [
        {
          "output_type": "stream",
          "name": "stdout",
          "text": [
            "+--------------------------------------+\n",
            "|stddev(avg(Lifetime_Post_Total_Reach))|\n",
            "+--------------------------------------+\n",
            "|                     7178.088278354271|\n",
            "+--------------------------------------+\n",
            "\n"
          ]
        }
      ]
    },
    {
      "cell_type": "code",
      "source": [
        "df.corr(\"Lifetime_Post_Consumptions\",\"Total_Interactions\")"
      ],
      "metadata": {
        "colab": {
          "base_uri": "https://localhost:8080/"
        },
        "id": "jWFlCnJ48LKc",
        "outputId": "00c8d0a7-7b87-44a1-f21b-1cf8d41a2cec"
      },
      "execution_count": null,
      "outputs": [
        {
          "output_type": "execute_result",
          "data": {
            "text/plain": [
              "0.21573504195330562"
            ]
          },
          "metadata": {},
          "execution_count": 87
        }
      ]
    },
    {
      "cell_type": "code",
      "source": [
        "def max_(a,b):\n",
        "  if a>b:\n",
        "    return a\n",
        "  elif b>a:\n",
        "    return b\n",
        "\n",
        "max_(1,2)"
      ],
      "metadata": {
        "colab": {
          "base_uri": "https://localhost:8080/"
        },
        "id": "hpVIAFltHjSD",
        "outputId": "71f53ffc-f6b5-4877-fb75-a69b5c4762d8"
      },
      "execution_count": null,
      "outputs": [
        {
          "output_type": "execute_result",
          "data": {
            "text/plain": [
              "2"
            ]
          },
          "metadata": {},
          "execution_count": 93
        }
      ]
    },
    {
      "cell_type": "code",
      "source": [
        "def max_of_three(a,b,c):\n",
        "  if a>b and a>c:\n",
        "    return a\n",
        "  elif b>a and b>c:\n",
        "    return b\n",
        "  elif c>a and c>b:\n",
        "    return b\n",
        "\n",
        "max_of_three(6,7,5)"
      ],
      "metadata": {
        "colab": {
          "base_uri": "https://localhost:8080/"
        },
        "id": "zZ4sCPq-IL_1",
        "outputId": "f56cc2f6-37d4-4a25-94d8-18d5538925fe"
      },
      "execution_count": null,
      "outputs": [
        {
          "output_type": "execute_result",
          "data": {
            "text/plain": [
              "7"
            ]
          },
          "metadata": {},
          "execution_count": 96
        }
      ]
    },
    {
      "cell_type": "code",
      "source": [
        "def len_of_arg(a):\n",
        "  length=0\n",
        "  for i in a:\n",
        "    length=length+1\n",
        "  return length\n",
        "\n",
        "len_of_arg(\"anil\")\n"
      ],
      "metadata": {
        "colab": {
          "base_uri": "https://localhost:8080/"
        },
        "id": "klevjGtVIw8F",
        "outputId": "09544e34-bef5-49b2-e0a4-188d540ad07c"
      },
      "execution_count": null,
      "outputs": [
        {
          "output_type": "execute_result",
          "data": {
            "text/plain": [
              "4"
            ]
          },
          "metadata": {},
          "execution_count": 99
        }
      ]
    },
    {
      "cell_type": "code",
      "source": [
        "def vowel(a):\n",
        "  b=a.lower()\n",
        "  if b in (\"a\",\"e\",\"i\",\"o\",\"u\"):\n",
        "    return True\n",
        "  else:\n",
        "    return False\n",
        "\n",
        "vowel(\"d\")"
      ],
      "metadata": {
        "colab": {
          "base_uri": "https://localhost:8080/"
        },
        "id": "_sAizk-MJNAu",
        "outputId": "a644e37a-e478-41b9-9f9d-497ee9bc6c36"
      },
      "execution_count": null,
      "outputs": [
        {
          "output_type": "execute_result",
          "data": {
            "text/plain": [
              "False"
            ]
          },
          "metadata": {},
          "execution_count": 103
        }
      ]
    },
    {
      "cell_type": "code",
      "source": [
        "a=\"kjh\"\n",
        "b=\"kjhu\"\n",
        "b=a+2*b\n",
        "b"
      ],
      "metadata": {
        "colab": {
          "base_uri": "https://localhost:8080/",
          "height": 35
        },
        "id": "icDha5VILkac",
        "outputId": "ffe9e1dc-ad82-4c27-bf6d-be9577ca0a6a"
      },
      "execution_count": null,
      "outputs": [
        {
          "output_type": "execute_result",
          "data": {
            "text/plain": [
              "'kjhkjhukjhu'"
            ],
            "application/vnd.google.colaboratory.intrinsic+json": {
              "type": "string"
            }
          },
          "metadata": {},
          "execution_count": 109
        }
      ]
    },
    {
      "cell_type": "code",
      "source": [
        "def translate(a):\n",
        "  b=\"\"\n",
        "  for i in range(len(a)) :\n",
        "    if a[i] in (\"a\",\"e\",\"i\",\"o\",\"u\"):\n",
        "      b=b+a[i]\n",
        "    else:\n",
        "      b=b+a[i]+\"o\"+a[i]\n",
        "  return b\n",
        "translate(\"anil\")"
      ],
      "metadata": {
        "colab": {
          "base_uri": "https://localhost:8080/",
          "height": 35
        },
        "id": "JUoZUorrKlce",
        "outputId": "0303a979-bfe1-4139-e774-3fbbca57d601"
      },
      "execution_count": null,
      "outputs": [
        {
          "output_type": "execute_result",
          "data": {
            "text/plain": [
              "'anonilol'"
            ],
            "application/vnd.google.colaboratory.intrinsic+json": {
              "type": "string"
            }
          },
          "metadata": {},
          "execution_count": 120
        }
      ]
    },
    {
      "cell_type": "code",
      "source": [
        "def sum_(a):\n",
        "  sum=0\n",
        "  for i in a:\n",
        "    sum=sum+i\n",
        "  return sum\n",
        "sum_([1,2,3,4,5])\n",
        "\n",
        "def multiply_(a):\n",
        "  multiply=1\n",
        "  for i in a:\n",
        "    multiply=multiply*i\n",
        "  return multiply\n",
        "multiply_([1,2,3,4,5])"
      ],
      "metadata": {
        "colab": {
          "base_uri": "https://localhost:8080/"
        },
        "id": "izzlPRseNCA9",
        "outputId": "ea861252-d5b0-4650-a22e-8442ee85469e"
      },
      "execution_count": null,
      "outputs": [
        {
          "output_type": "execute_result",
          "data": {
            "text/plain": [
              "120"
            ]
          },
          "metadata": {},
          "execution_count": 124
        }
      ]
    },
    {
      "cell_type": "code",
      "source": [
        "def reverse(a):\n",
        "  b=a[::-1]\n",
        "  return b\n",
        "reverse(\"anil ram kalaga\")"
      ],
      "metadata": {
        "colab": {
          "base_uri": "https://localhost:8080/",
          "height": 35
        },
        "id": "4KezAoveO6R8",
        "outputId": "8573b8e4-e5a1-42fb-b89f-acef4cfa51c6"
      },
      "execution_count": null,
      "outputs": [
        {
          "output_type": "execute_result",
          "data": {
            "text/plain": [
              "'agalak mar lina'"
            ],
            "application/vnd.google.colaboratory.intrinsic+json": {
              "type": "string"
            }
          },
          "metadata": {},
          "execution_count": 125
        }
      ]
    },
    {
      "cell_type": "code",
      "source": [
        "def palindrome(a):\n",
        "  b=a[::-1]\n",
        "  if a==b:\n",
        "     print(\"{} is a palindrome\".format(a))\n",
        "\n",
        "  else:\n",
        "    print(\"{} is not a palindrome\".format(a))\n",
        "palindrome(\"radar\")"
      ],
      "metadata": {
        "colab": {
          "base_uri": "https://localhost:8080/"
        },
        "id": "xlKzgp5MPOwz",
        "outputId": "b1045042-f236-4310-c81c-b20814a03a39"
      },
      "execution_count": null,
      "outputs": [
        {
          "output_type": "stream",
          "name": "stdout",
          "text": [
            "radar is a palindrome\n"
          ]
        }
      ]
    },
    {
      "cell_type": "code",
      "source": [
        "def is_member(x,a):\n",
        "  for i in a :\n",
        "    if i==x:\n",
        "      return True\n",
        "  else:\n",
        "    return False\n",
        "is_member(5,[2,3,4,1])"
      ],
      "metadata": {
        "colab": {
          "base_uri": "https://localhost:8080/"
        },
        "id": "lLL9ZfxKPy-B",
        "outputId": "18c96e4b-ac96-44b3-9860-a99bb10ae911"
      },
      "execution_count": null,
      "outputs": [
        {
          "output_type": "execute_result",
          "data": {
            "text/plain": [
              "False"
            ]
          },
          "metadata": {},
          "execution_count": 134
        }
      ]
    },
    {
      "cell_type": "code",
      "source": [
        "def overlapping(a,b):\n",
        "  for i in a:\n",
        "    for j in b:\n",
        "      if j==i:\n",
        "        return True\n",
        "\n",
        "  else:\n",
        "    return False\n",
        "\n",
        "overlapping([\"anil\",\"ram\",\"kalaga\"],[\"kiran\",\"josyula\",\"surya\",\"anil\"])"
      ],
      "metadata": {
        "colab": {
          "base_uri": "https://localhost:8080/"
        },
        "id": "3gdD6Quuh58l",
        "outputId": "6a60c9d7-ff97-4bd8-dfc8-fdaa0462583f"
      },
      "execution_count": null,
      "outputs": [
        {
          "output_type": "execute_result",
          "data": {
            "text/plain": [
              "True"
            ]
          },
          "metadata": {},
          "execution_count": 136
        }
      ]
    },
    {
      "cell_type": "code",
      "source": [
        "def generate_n_chars(a,b):\n",
        "  c=\"\"\n",
        "  for i in range(a):\n",
        "    c=c+b\n",
        "  return c\n",
        "\n",
        "generate_n_chars(5,\"c\")\n",
        "\n"
      ],
      "metadata": {
        "colab": {
          "base_uri": "https://localhost:8080/",
          "height": 35
        },
        "id": "15thWwh2ifku",
        "outputId": "b7ae7b59-1181-418e-ed12-d59bee1d632e"
      },
      "execution_count": null,
      "outputs": [
        {
          "output_type": "execute_result",
          "data": {
            "text/plain": [
              "'ccccc'"
            ],
            "application/vnd.google.colaboratory.intrinsic+json": {
              "type": "string"
            }
          },
          "metadata": {},
          "execution_count": 137
        }
      ]
    },
    {
      "cell_type": "code",
      "source": [
        "def histogram(a):\n",
        "  for i in a:\n",
        "    for j in range(i):\n",
        "      print(\"*\",end=\"\") \n",
        "    print(\"\\n\")\n",
        "histogram([4,3,7])\n",
        "\n"
      ],
      "metadata": {
        "colab": {
          "base_uri": "https://localhost:8080/"
        },
        "id": "DAkj6vfkjDvs",
        "outputId": "99f8ac6c-8c90-4875-fa8c-9796d0a2d831"
      },
      "execution_count": null,
      "outputs": [
        {
          "output_type": "stream",
          "name": "stdout",
          "text": [
            "****\n",
            "\n",
            "***\n",
            "\n",
            "*******\n",
            "\n"
          ]
        }
      ]
    },
    {
      "cell_type": "code",
      "source": [
        "def max_in_list(a):\n",
        "  c=a[0]\n",
        "  for i in range(len(a)) :\n",
        "    if c>a[i]:\n",
        "        continue\n",
        "    else:\n",
        "       c=a[i]\n",
        "  return c\n",
        "max_in_list([1,2,3,8,5,9])\n"
      ],
      "metadata": {
        "colab": {
          "base_uri": "https://localhost:8080/"
        },
        "id": "18AE34gRj2-P",
        "outputId": "83149c4a-ee67-406a-cffb-4d659b8cb229"
      },
      "execution_count": null,
      "outputs": [
        {
          "output_type": "execute_result",
          "data": {
            "text/plain": [
              "9"
            ]
          },
          "metadata": {},
          "execution_count": 149
        }
      ]
    },
    {
      "cell_type": "code",
      "source": [
        "def maps_list(x):\n",
        "  y={}\n",
        "  for i in x:\n",
        "    y[i]=len(i)\n",
        "  return y\n",
        "maps_list([\"anil\",\"ram\",\"kalaga\"])"
      ],
      "metadata": {
        "colab": {
          "base_uri": "https://localhost:8080/"
        },
        "id": "V3JwUwwznA-Z",
        "outputId": "c5c9eecc-14a3-48ec-edfc-7054696fc4d1"
      },
      "execution_count": null,
      "outputs": [
        {
          "output_type": "execute_result",
          "data": {
            "text/plain": [
              "{'anil': 4, 'ram': 3, 'kalaga': 6}"
            ]
          },
          "metadata": {},
          "execution_count": 152
        }
      ]
    },
    {
      "cell_type": "code",
      "source": [
        "def longest_word(x):\n",
        "  y={}\n",
        "  for i in x:\n",
        "    y[i]=len(i)\n",
        "  \n",
        "  c=0\n",
        "  for i in y :\n",
        "    if c>y[i]:\n",
        "        continue\n",
        "    else:\n",
        "       c=y[i]\n",
        "  return c\n",
        "longest_word([\"anil\",\"ram\",\"kalaga\",\"kattapppaa\"])"
      ],
      "metadata": {
        "colab": {
          "base_uri": "https://localhost:8080/"
        },
        "id": "Yc9KRpbcoM8q",
        "outputId": "ff98a706-1f42-45af-812c-b518cf7c0c1a"
      },
      "execution_count": null,
      "outputs": [
        {
          "output_type": "execute_result",
          "data": {
            "text/plain": [
              "10"
            ]
          },
          "metadata": {},
          "execution_count": 158
        }
      ]
    },
    {
      "cell_type": "code",
      "source": [
        "def longer_words(x,n):\n",
        "  y={}\n",
        "  for i in x:\n",
        "    if len(i)>n:\n",
        "      y[i]=len(i)\n",
        "  return y\n",
        "  \n",
        "longer_words([\"anil\",\"ram\",\"kalaga\",\"kattapppaa\"],5)"
      ],
      "metadata": {
        "colab": {
          "base_uri": "https://localhost:8080/"
        },
        "id": "xIWZL_eNpu2_",
        "outputId": "6985b792-724c-49fd-bd27-47a8ab898fde"
      },
      "execution_count": null,
      "outputs": [
        {
          "output_type": "execute_result",
          "data": {
            "text/plain": [
              "{'kalaga': 6, 'kattapppaa': 10}"
            ]
          },
          "metadata": {},
          "execution_count": 159
        }
      ]
    },
    {
      "cell_type": "code",
      "source": [
        "def palindrome_recognizer(a):\n",
        "  b=\"\"\n",
        "  for i in a:\n",
        "    if i==\" \" or i==\"?\" or i==\"!\" or i==\".\" or i==\",\":\n",
        "      continue\n",
        "    else:\n",
        "      b=b+i.lower()\n",
        "    \n",
        "  c=b[::-1]\n",
        "  if c==b:\n",
        "     print(\"palindrome\")\n",
        "  else:\n",
        "    print(\"not a palindrome\")\n",
        "\n",
        "palindrome_recognizer(\"Sit on a potato pan, Otiis\")"
      ],
      "metadata": {
        "colab": {
          "base_uri": "https://localhost:8080/"
        },
        "id": "baUSXChKrDr0",
        "outputId": "fe1c53c7-e74c-4f98-a7f0-fe14a2909dce"
      },
      "execution_count": null,
      "outputs": [
        {
          "output_type": "stream",
          "name": "stdout",
          "text": [
            "not a palindrome\n"
          ]
        }
      ]
    },
    {
      "cell_type": "code",
      "source": [
        "import string\n",
        "c=[]\n",
        "for i in string.ascii_lowercase:\n",
        "  c.append(i)\n"
      ],
      "metadata": {
        "id": "XJBhQYBLsn5X"
      },
      "execution_count": null,
      "outputs": []
    },
    {
      "cell_type": "code",
      "source": [
        "def pangram(x):\n",
        "  import string\n",
        "  c=\"\"\n",
        "  for i in string.ascii_lowercase:\n",
        "    c=c+i\n",
        "\n",
        "  \n",
        "\n",
        "  for i in c:\n",
        "    if i not in x.lower():\n",
        "        return False\n",
        "    \n",
        "  return True\n",
        "\n",
        "pangram(\"The quick brown fox jumps over the lazy dog\")\n",
        "if pangram(\"The quick brown fox jumps over the lazy dog\")==True:\n",
        "  print(\"Yes\")\n",
        "\n",
        "else:\n",
        "  print(\"No\")\n"
      ],
      "metadata": {
        "colab": {
          "base_uri": "https://localhost:8080/"
        },
        "id": "zIMJ74r1t09R",
        "outputId": "32a5598c-bda1-4929-930e-ecbdc0809fdf"
      },
      "execution_count": null,
      "outputs": [
        {
          "output_type": "stream",
          "name": "stdout",
          "text": [
            "Yes\n"
          ]
        }
      ]
    },
    {
      "cell_type": "code",
      "source": [
        "def song(n):\n",
        "  for i in range(n):\n",
        "    print(\"{} bottles of beer on the wall, {} bottles of beer.\\nTake one down, pass it around, {} bottles of beer on the wall.\".format(99-i,99-i,99-i-1))\n",
        "\n",
        "song(99)"
      ],
      "metadata": {
        "colab": {
          "base_uri": "https://localhost:8080/"
        },
        "id": "MxZ9lnlf2Pl_",
        "outputId": "ca0a0fda-62ec-47ac-f08e-73b25fd7b3ab"
      },
      "execution_count": null,
      "outputs": [
        {
          "output_type": "stream",
          "name": "stdout",
          "text": [
            "99 bottles of beer on the wall, 99 bottles of beer.\n",
            "Take one down, pass it around, 98 bottles of beer on the wall.\n",
            "98 bottles of beer on the wall, 98 bottles of beer.\n",
            "Take one down, pass it around, 97 bottles of beer on the wall.\n",
            "97 bottles of beer on the wall, 97 bottles of beer.\n",
            "Take one down, pass it around, 96 bottles of beer on the wall.\n"
          ]
        }
      ]
    },
    {
      "cell_type": "code",
      "source": [
        "def swedish(x,y):\n",
        "  s=\"\"\n",
        "  a=x.split(\" \")\n",
        "  for i in a:\n",
        "    s=s+\" \"+y[i]\n",
        "  return s\n",
        "swedish(\"merry christmas\",{\"merry\":\"god\", \"christmas\":\"jul\", \"and\":\"och\", \"happy\":\"gott\", \"new\":\"nytt\", \"year\":\"år\"})"
      ],
      "metadata": {
        "colab": {
          "base_uri": "https://localhost:8080/",
          "height": 35
        },
        "id": "ExOeHMML4jBf",
        "outputId": "cb9ceb53-5e47-40b7-9fa7-fcfcb7e35c9b"
      },
      "execution_count": null,
      "outputs": [
        {
          "output_type": "execute_result",
          "data": {
            "text/plain": [
              "' god jul'"
            ],
            "application/vnd.google.colaboratory.intrinsic+json": {
              "type": "string"
            }
          },
          "metadata": {},
          "execution_count": 201
        }
      ]
    },
    {
      "cell_type": "code",
      "source": [
        "y={\"merry\":\"god\", \"christmas\":\"jul\", \"and\":\"och\", \"happy\":\"gott\", \"new\":\"nytt\", \"year\":\"år\"}\n",
        "type(y[\"merry\"])"
      ],
      "metadata": {
        "colab": {
          "base_uri": "https://localhost:8080/"
        },
        "id": "bukXX2X66j6z",
        "outputId": "4f8352f7-fd53-4334-925e-11a451b36865"
      },
      "execution_count": null,
      "outputs": [
        {
          "output_type": "execute_result",
          "data": {
            "text/plain": [
              "str"
            ]
          },
          "metadata": {},
          "execution_count": 193
        }
      ]
    },
    {
      "cell_type": "code",
      "source": [
        " x=\"anil ram kalaga\"\n",
        " a=[x.split(\" \")]\n",
        " a"
      ],
      "metadata": {
        "colab": {
          "base_uri": "https://localhost:8080/"
        },
        "id": "NHYfdejx68Xx",
        "outputId": "eba31ff6-1919-4120-d69d-117d574df9c9"
      },
      "execution_count": null,
      "outputs": [
        {
          "output_type": "execute_result",
          "data": {
            "text/plain": [
              "[['anil', 'ram', 'kalaga']]"
            ]
          },
          "metadata": {},
          "execution_count": 198
        }
      ]
    },
    {
      "cell_type": "code",
      "source": [
        "def char_freq(x):\n",
        "  y={}\n",
        "  for i in x:\n",
        "    if i in y:\n",
        "      y[i]+=1\n",
        "    else:\n",
        "      y[i]=1\n",
        "  return y\n",
        "\n",
        "char_freq(\"anilramkalaga\")"
      ],
      "metadata": {
        "colab": {
          "base_uri": "https://localhost:8080/"
        },
        "id": "2xbWywIoRXiD",
        "outputId": "e0db4ee2-43ed-4043-a0e8-12292676c6de"
      },
      "execution_count": null,
      "outputs": [
        {
          "output_type": "execute_result",
          "data": {
            "text/plain": [
              "{'a': 5, 'n': 1, 'i': 1, 'l': 2, 'r': 1, 'm': 1, 'k': 1, 'g': 1}"
            ]
          },
          "metadata": {},
          "execution_count": 22
        }
      ]
    },
    {
      "cell_type": "code",
      "source": [
        "def decoder(x):\n",
        "  y=\"\"\n",
        "  dictionary = {'a':'n', 'b':'o', 'c':'p', 'd':'q', 'e':'r', 'f':'s', 'g':'t', 'h':'u', \n",
        "       'i':'v', 'j':'w', 'k':'x', 'l':'y', 'm':'z', 'n':'a', 'o':'b', 'p':'c', \n",
        "       'q':'d', 'r':'e', 's':'f', 't':'g', 'u':'h', 'v':'i', 'w':'j', 'x':'k',\n",
        "       'y':'l', 'z':'m', 'A':'N', 'B':'O', 'C':'P', 'D':'Q', 'E':'R', 'F':'S', \n",
        "       'G':'T', 'H':'U', 'I':'V', 'J':'W', 'K':'X', 'L':'Y', 'M':'Z', 'N':'A', \n",
        "       'O':'B', 'P':'C', 'Q':'D', 'R':'E', 'S':'F', 'T':'G', 'U':'H', 'V':'I', \n",
        "       'W':'J', 'X':'K', 'Y':'L', 'Z':'M'}\n",
        "  for i in x:\n",
        "    if i in dictionary.keys():\n",
        "      y+=dictionary[i]\n",
        "    else:\n",
        "      y+=i\n",
        "  return y\n",
        "decoder(\"Pnrfne pvcure? V zhpu cersre Pnrfne fnynq!\")"
      ],
      "metadata": {
        "colab": {
          "base_uri": "https://localhost:8080/",
          "height": 35
        },
        "id": "wBRJ4WNr15Lk",
        "outputId": "d22b3bc8-6e4b-4ec6-e689-47af2dc3960e"
      },
      "execution_count": null,
      "outputs": [
        {
          "output_type": "execute_result",
          "data": {
            "text/plain": [
              "'Caesar cipher? I much prefer Caesar salad!'"
            ],
            "application/vnd.google.colaboratory.intrinsic+json": {
              "type": "string"
            }
          },
          "metadata": {},
          "execution_count": 24
        }
      ]
    },
    {
      "cell_type": "code",
      "source": [
        "def correct(x):\n",
        "  y=\"\"\n",
        "  for i in range(len(x)):\n",
        "    if x[i]==\" \" and x[i+1]==\" \":\n",
        "      x.replace(x[i],\"\")\n",
        "    else:\n",
        "      y=y+x[i]\n",
        "  return y\n",
        "correct(\"anil ram  kalaga\")\n"
      ],
      "metadata": {
        "colab": {
          "base_uri": "https://localhost:8080/",
          "height": 35
        },
        "id": "ZjkmqW8Z5q4o",
        "outputId": "68978792-88f6-4245-e72e-44b99f698601"
      },
      "execution_count": null,
      "outputs": [
        {
          "output_type": "execute_result",
          "data": {
            "text/plain": [
              "'anil ram kalaga'"
            ],
            "application/vnd.google.colaboratory.intrinsic+json": {
              "type": "string"
            }
          },
          "metadata": {},
          "execution_count": 31
        }
      ]
    },
    {
      "cell_type": "code",
      "source": [
        "def plural_forms(x):\n",
        "  if x[-1]==\"y\":\n",
        "    x=x.rstrip(x[-1])\n",
        "    x=x+\"ies\"\n",
        "    print(x)\n",
        "\n",
        "  elif x[-1] in (\"o\",\"s\",\"x\",\"z\"):\n",
        "    x=x+\"es\"\n",
        "    print(x)\n",
        "  elif x[len(x)-2:] in (\"ch\",\"sh\"):\n",
        "    x=x+\"es\"\n",
        "    print(x)\n",
        "  else:\n",
        "    x=x+\"s\"\n",
        "    print(x)\n",
        "\n",
        "plural_forms(\"pretty\")"
      ],
      "metadata": {
        "colab": {
          "base_uri": "https://localhost:8080/"
        },
        "id": "FsA-HUOnvAZx",
        "outputId": "eccba0b3-d30e-404a-cd17-f6872c3c9a33"
      },
      "execution_count": null,
      "outputs": [
        {
          "output_type": "stream",
          "name": "stdout",
          "text": [
            "pretties\n"
          ]
        }
      ]
    },
    {
      "cell_type": "code",
      "source": [
        "def make_ing_form(x):\n",
        "  if x[-1]==\"e\" and x not in (\"be\",\"see\",\"flee\",\"knee\") and x[len(x)-2:]!=\"ie\":\n",
        "    x=x.rstrip(x[-1])\n",
        "    x=x+\"ing\"\n",
        "    print(x)\n",
        "  elif x[len(x)-2:]==\"ie\":\n",
        "    x=x[:len(x)-2]+\"y\"+\"ing\"\n",
        "    print(x)\n",
        "\n",
        "  else:\n",
        "    x=x+\"ing\"\n",
        "    print(x)\n",
        "\n",
        "make_ing_form(\"lie\")\n",
        "    "
      ],
      "metadata": {
        "colab": {
          "base_uri": "https://localhost:8080/"
        },
        "id": "Jr_lIQBo0hpv",
        "outputId": "e2b52a0f-5b52-4571-8a75-a33e2e29d66e"
      },
      "execution_count": null,
      "outputs": [
        {
          "output_type": "stream",
          "name": "stdout",
          "text": [
            "lying\n"
          ]
        }
      ]
    },
    {
      "cell_type": "code",
      "source": [
        "x=[1,2,3,4,5,6,7,8,9]\n",
        "reduce(x)"
      ],
      "metadata": {
        "id": "SSzm_WcH3vef",
        "colab": {
          "base_uri": "https://localhost:8080/",
          "height": 183
        },
        "outputId": "e0292134-efac-49b8-b450-a25f5a509da2"
      },
      "execution_count": null,
      "outputs": [
        {
          "output_type": "error",
          "ename": "NameError",
          "evalue": "ignored",
          "traceback": [
            "\u001b[0;31m---------------------------------------------------------------------------\u001b[0m",
            "\u001b[0;31mNameError\u001b[0m                                 Traceback (most recent call last)",
            "\u001b[0;32m<ipython-input-2-026ac15f4133>\u001b[0m in \u001b[0;36m<module>\u001b[0;34m\u001b[0m\n\u001b[1;32m      1\u001b[0m \u001b[0mx\u001b[0m\u001b[0;34m=\u001b[0m\u001b[0;34m[\u001b[0m\u001b[0;36m1\u001b[0m\u001b[0;34m,\u001b[0m\u001b[0;36m2\u001b[0m\u001b[0;34m,\u001b[0m\u001b[0;36m3\u001b[0m\u001b[0;34m,\u001b[0m\u001b[0;36m4\u001b[0m\u001b[0;34m,\u001b[0m\u001b[0;36m5\u001b[0m\u001b[0;34m,\u001b[0m\u001b[0;36m6\u001b[0m\u001b[0;34m,\u001b[0m\u001b[0;36m7\u001b[0m\u001b[0;34m,\u001b[0m\u001b[0;36m8\u001b[0m\u001b[0;34m,\u001b[0m\u001b[0;36m9\u001b[0m\u001b[0;34m]\u001b[0m\u001b[0;34m\u001b[0m\u001b[0;34m\u001b[0m\u001b[0m\n\u001b[0;32m----> 2\u001b[0;31m \u001b[0mreduce\u001b[0m\u001b[0;34m(\u001b[0m\u001b[0mx\u001b[0m\u001b[0;34m)\u001b[0m\u001b[0;34m\u001b[0m\u001b[0;34m\u001b[0m\u001b[0m\n\u001b[0m",
            "\u001b[0;31mNameError\u001b[0m: name 'reduce' is not defined"
          ]
        }
      ]
    },
    {
      "cell_type": "code",
      "source": [
        "def avg_length_of_word(x):\n",
        "  y=x.split(\" \")\n",
        "  a=0\n",
        "  b=0\n",
        "  for i in y:\n",
        "    a=a+len(i)\n",
        "    b=b+1\n",
        "  return a/b\n",
        "\n",
        "\n",
        "avg_length_of_word(\"anil ram kalaga completed his masters recently\")\n",
        "\n"
      ],
      "metadata": {
        "colab": {
          "base_uri": "https://localhost:8080/"
        },
        "id": "qnv3UeiaZCA_",
        "outputId": "3527fec6-656f-4d52-c352-19a479e8c926"
      },
      "execution_count": null,
      "outputs": [
        {
          "output_type": "execute_result",
          "data": {
            "text/plain": [
              "5.714285714285714"
            ]
          },
          "metadata": {},
          "execution_count": 3
        }
      ]
    },
    {
      "cell_type": "code",
      "source": [
        "def avg_length_of_word(x):\n",
        "  y=x.split(\" \")\n",
        "  a=0\n",
        "  b=0\n",
        "  for i in y:\n",
        "    a=a+len(i)\n",
        "    b=b+1\n",
        "  return a/b\n",
        "\n",
        "\n",
        "avg_length_of_word(\"anil ram kalaga completed his masters recently\")"
      ],
      "metadata": {
        "id": "nVbg5ZQXaj33",
        "colab": {
          "base_uri": "https://localhost:8080/"
        },
        "outputId": "e9f7266a-0b35-424e-b5e4-1e851ffb562a"
      },
      "execution_count": 1,
      "outputs": [
        {
          "output_type": "execute_result",
          "data": {
            "text/plain": [
              "5.714285714285714"
            ]
          },
          "metadata": {},
          "execution_count": 1
        }
      ]
    }
  ]
}